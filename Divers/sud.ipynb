{
 "cells": [
  {
   "cell_type": "code",
   "execution_count": 1,
   "metadata": {},
   "outputs": [],
   "source": [
    "grid=[[6,1,0, 0,0,0, 0,0,0],\n",
    "      [0,0,0, 0,4,3, 0,0,0],\n",
    "      [7,0,0, 0,0,0, 0,5,6],\n",
    "      \n",
    "      [0,0,1, 9,0,0, 2,0,0],\n",
    "      [0,0,0, 5,3,4, 0,0,0],\n",
    "      [0,0,4, 0,0,2, 8,0,0],\n",
    "      \n",
    "      [5,7,0, 3,0,7, 6,0,0],\n",
    "      [3,0,0, 2,0,4, 0,0,1],\n",
    "      [0,2,0, 0,6,0, 0,4,0]]"
   ]
  },
  {
   "cell_type": "code",
   "execution_count": 2,
   "metadata": {},
   "outputs": [],
   "source": [
    "import numpy as np\n",
    "\n",
    "def possible(y,x,n):\n",
    "    global grid\n",
    "    for i in range(9):\n",
    "        if grid[y][i]==n:\n",
    "            return False\n",
    "    for i in range(9):\n",
    "        if grid[i][x]==n:\n",
    "            return False\n",
    "    x0=(x//3)*3\n",
    "    y0=(y//3)*3\n",
    "    for i in range(3):\n",
    "        for j in range(3):\n",
    "            if grid[y0+i][x0+j]==n:\n",
    "                return False\n",
    "    return True"
   ]
  },
  {
   "cell_type": "code",
   "execution_count": 3,
   "metadata": {},
   "outputs": [],
   "source": [
    "def solve():\n",
    "    global grid\n",
    "    for y in range(9):\n",
    "        for x in range(9):\n",
    "            if grid[y][x]==0:\n",
    "                for n in range(1,10):\n",
    "                    if possible(y,x,n):\n",
    "                        grid[y][x]=n\n",
    "                        solve()\n",
    "                        grid[y][x]=0\n",
    "                return\n",
    "    print(np.matrix(grid))"
   ]
  },
  {
   "cell_type": "code",
   "execution_count": 4,
   "metadata": {},
   "outputs": [
    {
     "name": "stdout",
     "output_type": "stream",
     "text": [
      "[[9 8 4 7 2 6 5 1 3]\n",
      " [5 6 1 9 4 3 8 7 2]\n",
      " [2 3 7 5 8 1 4 6 9]\n",
      " [7 5 2 4 9 8 1 3 6]\n",
      " [8 1 9 6 3 2 7 5 4]\n",
      " [6 4 3 1 7 5 2 9 8]\n",
      " [4 9 8 3 1 7 6 2 5]\n",
      " [3 7 6 2 5 4 9 8 1]\n",
      " [1 2 5 8 6 9 3 4 7]]\n"
     ]
    }
   ],
   "source": [
    "solve()"
   ]
  },
  {
   "cell_type": "code",
   "execution_count": null,
   "metadata": {},
   "outputs": [],
   "source": []
  }
 ],
 "metadata": {
  "hide_input": false,
  "kernelspec": {
   "display_name": "Python 3",
   "language": "python",
   "name": "python3"
  },
  "language_info": {
   "codemirror_mode": {
    "name": "ipython",
    "version": 3
   },
   "file_extension": ".py",
   "mimetype": "text/x-python",
   "name": "python",
   "nbconvert_exporter": "python",
   "pygments_lexer": "ipython3",
   "version": "3.6.8"
  },
  "toc": {
   "base_numbering": 1,
   "nav_menu": {},
   "number_sections": true,
   "sideBar": true,
   "skip_h1_title": false,
   "title_cell": "Table of Contents",
   "title_sidebar": "Contents",
   "toc_cell": false,
   "toc_position": {},
   "toc_section_display": true,
   "toc_window_display": false
  },
  "varInspector": {
   "cols": {
    "lenName": 16,
    "lenType": 16,
    "lenVar": 40
   },
   "kernels_config": {
    "python": {
     "delete_cmd_postfix": "",
     "delete_cmd_prefix": "del ",
     "library": "var_list.py",
     "varRefreshCmd": "print(var_dic_list())"
    },
    "r": {
     "delete_cmd_postfix": ") ",
     "delete_cmd_prefix": "rm(",
     "library": "var_list.r",
     "varRefreshCmd": "cat(var_dic_list()) "
    }
   },
   "types_to_exclude": [
    "module",
    "function",
    "builtin_function_or_method",
    "instance",
    "_Feature"
   ],
   "window_display": false
  }
 },
 "nbformat": 4,
 "nbformat_minor": 2
}
