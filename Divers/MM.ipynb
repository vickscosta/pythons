{
 "cells": [
  {
   "cell_type": "code",
   "execution_count": 1,
   "metadata": {},
   "outputs": [],
   "source": [
    "import random\n",
    "import collections\n",
    "import numpy as np\n",
    "from copy import deepcopy\n",
    "import tkinter as tk"
   ]
  },
  {
   "cell_type": "code",
   "execution_count": 6,
   "metadata": {},
   "outputs": [],
   "source": [
    "def score(acode,aguess):\n",
    "    \n",
    "    CodeColorCount=collections.Counter(acode)\n",
    "    GuessColorCount=collections.Counter(aguess)\n",
    "    blanc=sum(min(CodeColorCount[k],GuessColorCount[k]) for k in CodeColorCount)\n",
    "    noir=sum(a==b for a,b in zip(acode,aguess))\n",
    "    blanc-=noir\n",
    "    \n",
    "    return noir,blanc"
   ]
  },
  {
   "cell_type": "code",
   "execution_count": 7,
   "metadata": {},
   "outputs": [],
   "source": [
    "def running(acode):\n",
    "    guess=input(\"->\")\n",
    "    noir, blanc = score(acode,guess)\n",
    "    print('noir: {}, blanc: {}'.format(noir,blanc))\n",
    "    return noir != NbCode"
   ]
  },
  {
   "cell_type": "code",
   "execution_count": 8,
   "metadata": {},
   "outputs": [],
   "source": [
    "def myplay():\n",
    "    Code=[random.choice(myChoices) for _ in range(NbCode)]\n",
    "    for attempt in range(NbMaxGuesses):\n",
    "        if not running(Code):\n",
    "            print('Win,',attempt+1,'tries')\n",
    "            break\n",
    "        else:\n",
    "            print('Try',attempt+1)\n",
    "    else:\n",
    "        print('Game Over')"
   ]
  },
  {
   "cell_type": "code",
   "execution_count": 9,
   "metadata": {},
   "outputs": [],
   "source": [
    "def initarbre():\n",
    "    listepossible=[]\n",
    "    for i1 in myChoices:\n",
    "        for i2 in myChoices:\n",
    "            for i3 in myChoices:\n",
    "                for i4 in myChoices:\n",
    "                    listepossible.append([i1,i2,i3,i4])\n",
    "    return listepossible"
   ]
  },
  {
   "cell_type": "code",
   "execution_count": 2,
   "metadata": {},
   "outputs": [],
   "source": [
    "NbCode=4\n",
    "NbMaxGuesses=12\n",
    "myChoices='roygbp'"
   ]
  },
  {
   "cell_type": "code",
   "execution_count": 22,
   "metadata": {},
   "outputs": [],
   "source": [
    "class MM:\n",
    "   \n",
    "    def __init__(self,parent):\n",
    "        self.parent = parent\n",
    "        self.canvas=tk.Canvas(parent)\n",
    "        self.status=tk.Label(parent)\n",
    "        self.colors={'r':'red','o':'orange','y':'yellow','g':'green','b':'blue','p':'purple'}\n",
    "        self.drawboard()\n",
    "    \n",
    "    def drawboard(self,event=None):\n",
    "        self.canvas.destroy()\n",
    "        self.status.destroy()\n",
    "        self.canvas=tk.Canvas(self.parent,width=310, height=750)\n",
    "        self.canvas.pack()\n",
    "        self.bag={'r':self.canvas.create_oval(10,700,50,740,fill='red',outline='red'),\n",
    "                  'o':self.canvas.create_oval(60,700,100,740,fill='orange',outline='orange'),\n",
    "                  'y':self.canvas.create_oval(110,700,150,740,fill='yellow',outline='yellow'),\n",
    "                  'g':self.canvas.create_oval(160,700,200,740,fill='green',outline='green'),\n",
    "                  'b':self.canvas.create_oval(210,700,250,740,fill='blue',outline='blue'),\n",
    "                  'p':self.canvas.create_oval(260,700,300,740,fill='purple',outline='purple')}\n",
    "        self.ids={v:k for k,v in self.bag.items()}\n",
    "        self.guesses=['']\n",
    "        self.status=tk.Label(self.parent)\n",
    "        self.canvas.create_line(0,680,400,680)\n",
    "        self.canvas.create_line(0,60,400,60)\n",
    "        self.canvas.create_text(150, 40,text=\"MASTERMIND\", font=(\"Arial\",30) )\n",
    "        \n",
    "        #empty circles\n",
    "        for i in range(NbCode):\n",
    "            for j in range(NbMaxGuesses):\n",
    "                self.canvas.create_oval(10+i*50,630-j*50,50+i*50,670-j*50,outline='black')\n",
    "        \n",
    "        #empty squares\n",
    "        for j in range(NbMaxGuesses):\n",
    "            self.canvas.create_rectangle(230,640-50*j,255,650-50*j,outline='black')\n",
    "            self.canvas.create_rectangle(260,640-50*j,285,650-50*j,outline='black')\n",
    "            self.canvas.create_rectangle(230,655-50*j,255,665-50*j,outline='black')\n",
    "            self.canvas.create_rectangle(260,655-50*j,285,665-50*j,outline='black')\n",
    "        self.status.pack()\n",
    "        \n",
    "        #self.canvas.pack()\n",
    "        #self.parent.bind('<Return>',exit)\n",
    "        \n",
    "        self.canvas.bind('<1>',self.check)\n",
    "        self.parent.bind('<Control-n>',self.drawboard)\n",
    "        self.parent.bind('<Control-N>',self.drawboard)\n",
    "        self.Code=[random.choice(myChoices) for _ in range(NbCode)]\n",
    "        self.CodeColorCount=collections.Counter(self.Code)\n",
    "        print(self.Code)\n",
    "    \n",
    "    def check(self,event=None):\n",
    "        if(len(self.canvas.find_withtag(\"current\"))==0 \n",
    "           or self.canvas.find_withtag(\"current\")[0]> 6):\n",
    "            return\n",
    "        id=self.canvas.find_withtag(\"current\")[0]\n",
    "        guess=self.ids[id]\n",
    "        self.guesses[-1]+=guess\n",
    "        \n",
    "        #print\n",
    "        x_offset=10+(len(self.guesses[-1])-1)*50\n",
    "        y_offset=630-(len(self.guesses)-1)*50\n",
    "        self.canvas.create_oval(x_offset,y_offset,\n",
    "                                x_offset+40,y_offset+40,\n",
    "                                fill=self.colors[guess],outline='black')\n",
    "        if len(self.guesses[-1])<4:\n",
    "            return\n",
    "        \n",
    "        GuessColorCount=collections.Counter(self.guesses[-1])\n",
    "        blanc=sum(min(self.CodeColorCount[k],GuessColorCount[k]) for k in self.CodeColorCount)\n",
    "        noir=sum(a==b for a,b in zip(self.Code,self.guesses[-1]))\n",
    "        blanc-=noir\n",
    "        colors=noir*['black']+blanc*['yellow']\n",
    "        key_coordinates=[(230,y_offset+10,255, y_offset+20),\n",
    "                         (260,y_offset+10,285, y_offset+20),\n",
    "                         (230,y_offset+25,255, y_offset+35),\n",
    "                         (260,y_offset+25,285, y_offset+35)]\n",
    "        for color,coord in zip(colors,key_coordinates):\n",
    "            self.canvas.create_rectangle(coord,fill=color,outline='black')\n",
    "        \n",
    "        if noir==4:\n",
    "            self.status.config(text='You win in {} guesses.'.format(len(self.guesses)))\n",
    "            self.canvas.unbind('<1>')\n",
    "        elif len(self.guesses) > NbMaxGuesses-1:\n",
    "            self.status.config(text='Game over! The correct answer is {}.'.format(''.join(self.Code)))\n",
    "            self.canvas.unbind('<1>')\n",
    "        else:\n",
    "            self.guesses.append('')"
   ]
  },
  {
   "cell_type": "code",
   "execution_count": 23,
   "metadata": {},
   "outputs": [
    {
     "name": "stdout",
     "output_type": "stream",
     "text": [
      "['o', 'g', 'r', 'g']\n"
     ]
    }
   ],
   "source": [
    "root=tk.Tk()\n",
    "game=MM(root)\n",
    "root.mainloop()"
   ]
  },
  {
   "cell_type": "code",
   "execution_count": 54,
   "metadata": {
    "scrolled": false
   },
   "outputs": [],
   "source": [
    "#init\n",
    "def play(show=True,imposedcode=False,Code=[]):\n",
    "    if imposedcode==False:\n",
    "        Code=[random.choice(myChoices) for _ in range(NbCode)]\n",
    "    \n",
    "    print(Code)\n",
    "    \n",
    "    listepossible=initarbre()\n",
    "\n",
    "    #storage\n",
    "    guesslist=[]\n",
    "    scorelist=[]\n",
    "\n",
    "    #first guess\n",
    "    guesslist.append([random.choice(myChoices) for _ in range(NbCode)])\n",
    "    scorelist.append(score(Code,guesslist[0]))\n",
    "\n",
    "    #evaluation\n",
    "    for attempt in range(NbMaxGuesses):\n",
    "        if scorelist[attempt][0]==4:\n",
    "            break\n",
    "        else:\n",
    "            newlist=[]\n",
    "            for idx,i in enumerate(listepossible):\n",
    "                if score(guesslist[attempt],i)==scorelist[attempt]:\n",
    "                    newlist.append(i)\n",
    "            if show:\n",
    "                print(attempt+1,'->',*guesslist[attempt],scorelist[attempt])\n",
    "                print('Search in :',len(newlist))\n",
    "\n",
    "            guesslist.append(newlist[0])\n",
    "            scorelist.append(score(Code,guesslist[attempt+1]))\n",
    "            listepossible = deepcopy(newlist)\n",
    "\n",
    "    else:\n",
    "        if show:\n",
    "            print('Game Over')\n",
    "    if show:\n",
    "        print('\\n')\n",
    "        print(\"Computer wins in\",attempt+1,\"attempts\")\n",
    "        print('Code',*guesslist[attempt])\n",
    "\n",
    "    return attempt+1"
   ]
  },
  {
   "cell_type": "code",
   "execution_count": 55,
   "metadata": {},
   "outputs": [],
   "source": [
    "#MULTI=1000\n",
    "#multiplaylist=[]\n",
    "#for _ in range(MULTI):\n",
    "#    multiplaylist.append(play(show=False,imposedcode=False))\n",
    "    \n",
    "#print('moyenne de',MULTI,\"jeux:\",np.mean(multiplaylist))"
   ]
  },
  {
   "cell_type": "code",
   "execution_count": 12,
   "metadata": {},
   "outputs": [
    {
     "name": "stdout",
     "output_type": "stream",
     "text": [
      "Qui trouve la solution? moi ou toi?toi\n",
      "Tu veux renseigner un code? (oui/non)non\n"
     ]
    },
    {
     "ename": "TypeError",
     "evalue": "myplay() got an unexpected keyword argument 'show'",
     "output_type": "error",
     "traceback": [
      "\u001b[1;31m---------------------------------------------------------------------------\u001b[0m",
      "\u001b[1;31mTypeError\u001b[0m                                 Traceback (most recent call last)",
      "\u001b[1;32m<ipython-input-12-bacda3baa081>\u001b[0m in \u001b[0;36m<module>\u001b[1;34m\u001b[0m\n\u001b[0;32m     12\u001b[0m         \u001b[0mmyplay\u001b[0m\u001b[1;33m(\u001b[0m\u001b[0mshow\u001b[0m\u001b[1;33m=\u001b[0m\u001b[1;32mTrue\u001b[0m\u001b[1;33m,\u001b[0m\u001b[0mimposedcode\u001b[0m\u001b[1;33m=\u001b[0m\u001b[1;32mTrue\u001b[0m\u001b[1;33m,\u001b[0m\u001b[0mCode\u001b[0m\u001b[1;33m=\u001b[0m\u001b[0mCode\u001b[0m\u001b[1;33m)\u001b[0m\u001b[1;33m\u001b[0m\u001b[1;33m\u001b[0m\u001b[0m\n\u001b[0;32m     13\u001b[0m     \u001b[1;32melse\u001b[0m\u001b[1;33m:\u001b[0m\u001b[1;33m\u001b[0m\u001b[1;33m\u001b[0m\u001b[0m\n\u001b[1;32m---> 14\u001b[1;33m         \u001b[0mmyplay\u001b[0m\u001b[1;33m(\u001b[0m\u001b[0mshow\u001b[0m\u001b[1;33m=\u001b[0m\u001b[1;32mTrue\u001b[0m\u001b[1;33m,\u001b[0m\u001b[0mimposedcode\u001b[0m\u001b[1;33m=\u001b[0m\u001b[1;32mFalse\u001b[0m\u001b[1;33m)\u001b[0m\u001b[1;33m\u001b[0m\u001b[1;33m\u001b[0m\u001b[0m\n\u001b[0m",
      "\u001b[1;31mTypeError\u001b[0m: myplay() got an unexpected keyword argument 'show'"
     ]
    }
   ],
   "source": [
    "mychoix=input('Qui trouve la solution? moi ou toi?')\n",
    "\n",
    "if mychoix=='moi':\n",
    "    myplay()\n",
    "else:\n",
    "    mychoix2=input('Tu veux renseigner un code? (oui/non)')\n",
    "    if mychoix2=='oui':\n",
    "        Code=[]\n",
    "        mycode=input('Code:')\n",
    "        for i in range(NbCode):\n",
    "            Code.append(mycode[i])\n",
    "        myplay(show=True,imposedcode=True,Code=Code)\n",
    "    else:\n",
    "        myplay(show=True,imposedcode=False)"
   ]
  },
  {
   "cell_type": "code",
   "execution_count": null,
   "metadata": {},
   "outputs": [],
   "source": []
  }
 ],
 "metadata": {
  "hide_input": false,
  "kernelspec": {
   "display_name": "Python 3",
   "language": "python",
   "name": "python3"
  },
  "language_info": {
   "codemirror_mode": {
    "name": "ipython",
    "version": 3
   },
   "file_extension": ".py",
   "mimetype": "text/x-python",
   "name": "python",
   "nbconvert_exporter": "python",
   "pygments_lexer": "ipython3",
   "version": "3.6.8"
  },
  "toc": {
   "base_numbering": 1,
   "nav_menu": {},
   "number_sections": true,
   "sideBar": true,
   "skip_h1_title": false,
   "title_cell": "Table of Contents",
   "title_sidebar": "Contents",
   "toc_cell": false,
   "toc_position": {},
   "toc_section_display": true,
   "toc_window_display": false
  },
  "varInspector": {
   "cols": {
    "lenName": 16,
    "lenType": 16,
    "lenVar": 40
   },
   "kernels_config": {
    "python": {
     "delete_cmd_postfix": "",
     "delete_cmd_prefix": "del ",
     "library": "var_list.py",
     "varRefreshCmd": "print(var_dic_list())"
    },
    "r": {
     "delete_cmd_postfix": ") ",
     "delete_cmd_prefix": "rm(",
     "library": "var_list.r",
     "varRefreshCmd": "cat(var_dic_list()) "
    }
   },
   "types_to_exclude": [
    "module",
    "function",
    "builtin_function_or_method",
    "instance",
    "_Feature"
   ],
   "window_display": false
  }
 },
 "nbformat": 4,
 "nbformat_minor": 2
}
